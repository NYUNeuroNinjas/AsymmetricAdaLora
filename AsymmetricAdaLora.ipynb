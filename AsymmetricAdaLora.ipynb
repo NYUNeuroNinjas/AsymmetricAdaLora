{
 "cells": [
  {
   "cell_type": "code",
   "execution_count": 1,
   "metadata": {
    "_cell_guid": "b1076dfc-b9ad-4769-8c92-a6c4dae69d19",
    "_uuid": "8f2839f25d086af736a60e9eeb907d3b93b6e0e5"
   },
   "outputs": [
    {
     "name": "stdout",
     "output_type": "stream",
     "text": [
      "input/test_unlabelled.pkl\n"
     ]
    }
   ],
   "source": [
    "# This Python 3 environment comes with many helpful analytics libraries installed\n",
    "# It is defined by the kaggle/python Docker image: https://github.com/kaggle/docker-python\n",
    "# For example, here's several helpful packages to load\n",
    "\n",
    "import numpy as np # linear algebra\n",
    "import pandas as pd # data processing, CSV file I/O (e.g. pd.read_csv)\n",
    "\n",
    "VERSION = 27\n",
    "# Input data files are available in the read-only \"../input/\" directory\n",
    "# For example, running this (by clicking run or pressing Shift+Enter) will list all files under the input directory\n",
    "\n",
    "import os\n",
    "for dirname, _, filenames in os.walk('input'):\n",
    "    for filename in filenames:\n",
    "        print(os.path.join(dirname, filename))\n",
    "\n",
    "# You can write up to 20GB to the current directory (/kaggle/working/) that gets preserved as output when you create a version using \"Save & Run All\" \n",
    "# You can also write temporary files to /kaggle/temp/, but they won't be saved outside of the current session"
   ]
  },
  {
   "cell_type": "code",
   "execution_count": 2,
   "metadata": {},
   "outputs": [
    {
     "name": "stdout",
     "output_type": "stream",
     "text": [
      "Using device: cuda\n"
     ]
    }
   ],
   "source": [
    "# -----------------------------\n",
    "# 1. Import libraries\n",
    "# -----------------------------\n",
    "import torch\n",
    "from transformers import AutoTokenizer, AutoModelForSequenceClassification, TrainingArguments, Trainer, DataCollatorWithPadding\n",
    "from datasets import load_dataset, load_from_disk\n",
    "from peft import get_peft_model, LoraConfig, TaskType, AdaLoraConfig\n",
    "from sklearn.metrics import accuracy_score\n",
    "import numpy as np\n",
    "import pandas as pd\n",
    "import pickle\n",
    "import nltk\n",
    "\n",
    "# 2. Use GPU if available\n",
    "# -----------------------------\n",
    "device = torch.device(\"cuda\" if torch.cuda.is_available() else \"cpu\")\n",
    "print(f\"Using device: {device}\")\n",
    "\n",
    "# -----------------------------\n",
    "# 3. Load and preprocess AGNEWS dataset\n",
    "# -----------------------------\n",
    "def tokenize_function(examples):\n",
    "    return tokenizer(examples[\"text\"], truncation=True, padding=\"max_length\", max_length=256)\n",
    "dataset = load_dataset(\"ag_news\")\n",
    "tokenizer = AutoTokenizer.from_pretrained(\"roberta-base\")\n",
    "\n",
    "#Augmented training set - see create_augment.ipynb\n",
    "tokenized_train = load_from_disk(\"tokenized_datasets/synonym_augment\")\n",
    "\n",
    "tokenized_test = dataset['test'].map(tokenize_function, batched=True)\n",
    "tokenized_test = tokenized_test.rename_column(\"label\", \"labels\")\n",
    "tokenized_test.set_format(\"torch\", columns=[\"input_ids\", \"attention_mask\", \"labels\"])\n",
    "\n",
    "\n",
    "data_collator = DataCollatorWithPadding(tokenizer=tokenizer, return_tensors=\"pt\")"
   ]
  },
  {
   "cell_type": "markdown",
   "metadata": {},
   "source": [
    "model = AutoModelForSequenceClassification.from_pretrained(\"roberta-base\")\n",
    "\n",
    "for name, module in model.named_modules():\n",
    "    if any(k in name for k in [\"query\", \"key\", \"value\", \"dense\", \"proj\"]):\n",
    "        print(name)"
   ]
  },
  {
   "cell_type": "code",
   "execution_count": 3,
   "metadata": {},
   "outputs": [
    {
     "name": "stderr",
     "output_type": "stream",
     "text": [
      "Some weights of RobertaForSequenceClassification were not initialized from the model checkpoint at roberta-base and are newly initialized: ['classifier.dense.bias', 'classifier.dense.weight', 'classifier.out_proj.bias', 'classifier.out_proj.weight']\n",
      "You should probably TRAIN this model on a down-stream task to be able to use it for predictions and inference.\n"
     ]
    },
    {
     "name": "stdout",
     "output_type": "stream",
     "text": [
      "==================================================\n",
      "Layers with AdaLoRA Ranks (r):\n",
      "==================================================\n",
      "base_model.model.roberta.encoder.layer.6.attention.self.query: r = 8\n",
      "base_model.model.roberta.encoder.layer.6.attention.self.key: r = 6\n",
      "base_model.model.roberta.encoder.layer.6.attention.self.value: r = 6\n",
      "base_model.model.roberta.encoder.layer.6.attention.output.dense: r = 4\n",
      "base_model.model.roberta.encoder.layer.6.intermediate.dense: r = 4\n",
      "base_model.model.roberta.encoder.layer.6.output.dense: r = 4\n",
      "base_model.model.roberta.encoder.layer.7.attention.self.query: r = 8\n",
      "base_model.model.roberta.encoder.layer.7.attention.self.key: r = 6\n",
      "base_model.model.roberta.encoder.layer.7.attention.self.value: r = 6\n",
      "base_model.model.roberta.encoder.layer.7.attention.output.dense: r = 4\n",
      "base_model.model.roberta.encoder.layer.7.intermediate.dense: r = 4\n",
      "base_model.model.roberta.encoder.layer.7.output.dense: r = 4\n",
      "base_model.model.roberta.encoder.layer.8.attention.self.query: r = 8\n",
      "base_model.model.roberta.encoder.layer.8.attention.self.key: r = 6\n",
      "base_model.model.roberta.encoder.layer.8.attention.self.value: r = 6\n",
      "base_model.model.roberta.encoder.layer.8.attention.output.dense: r = 4\n",
      "base_model.model.roberta.encoder.layer.8.intermediate.dense: r = 4\n",
      "base_model.model.roberta.encoder.layer.8.output.dense: r = 4\n",
      "base_model.model.roberta.encoder.layer.9.attention.self.query: r = 8\n",
      "base_model.model.roberta.encoder.layer.9.attention.self.key: r = 6\n",
      "base_model.model.roberta.encoder.layer.9.attention.self.value: r = 6\n",
      "base_model.model.roberta.encoder.layer.9.attention.output.dense: r = 4\n",
      "base_model.model.roberta.encoder.layer.9.intermediate.dense: r = 4\n",
      "base_model.model.roberta.encoder.layer.9.output.dense: r = 4\n",
      "base_model.model.roberta.encoder.layer.10.attention.self.query: r = 8\n",
      "base_model.model.roberta.encoder.layer.10.attention.self.key: r = 6\n",
      "base_model.model.roberta.encoder.layer.10.attention.self.value: r = 6\n",
      "base_model.model.roberta.encoder.layer.10.attention.output.dense: r = 4\n",
      "base_model.model.roberta.encoder.layer.10.intermediate.dense: r = 4\n",
      "base_model.model.roberta.encoder.layer.10.output.dense: r = 4\n",
      "base_model.model.roberta.encoder.layer.11.attention.self.query: r = 8\n",
      "base_model.model.roberta.encoder.layer.11.attention.self.key: r = 6\n",
      "base_model.model.roberta.encoder.layer.11.attention.self.value: r = 6\n",
      "base_model.model.roberta.encoder.layer.11.attention.output.dense: r = 4\n",
      "base_model.model.roberta.encoder.layer.11.intermediate.dense: r = 4\n",
      "base_model.model.roberta.encoder.layer.11.output.dense: r = 4\n",
      "==================================================\n",
      "trainable params: 999,364 || all params: 125,648,108 || trainable%: 0.7954\n"
     ]
    }
   ],
   "source": [
    "from peft.tuners.adalora import SVDLinear\n",
    "# -----------------------------\n",
    "# 4. Define training arguments\n",
    "# -----------------------------\n",
    "training_args = TrainingArguments(\n",
    "    output_dir=\"./results\",\n",
    "    optim=\"adamw_torch\",   #AdamW Optimizer\n",
    "    eval_strategy=\"epoch\",\n",
    "    save_strategy=\"epoch\",\n",
    "    learning_rate=2e-4,\n",
    "    lr_scheduler_type=\"cosine\",   #Cosine annealing LR scheduling\n",
    "    warmup_ratio=0.1,\n",
    "    per_device_train_batch_size=32,\n",
    "    per_device_eval_batch_size=64,\n",
    "    num_train_epochs=6,\n",
    "    adam_beta1=0.9, \n",
    "    adam_beta2=0.999,  \n",
    "    adam_epsilon=1e-8,\n",
    "    weight_decay=0.05,\n",
    "    report_to=\"none\",\n",
    "    fp16 = True,\n",
    "    seed = 42,  \n",
    "    load_best_model_at_end=True,  \n",
    ")\n",
    "\n",
    "\n",
    "model = AutoModelForSequenceClassification.from_pretrained(\"roberta-base\", num_labels=4)\n",
    "\n",
    "# -------\n",
    "# 5. AdaLoRA \n",
    "# -------\n",
    "\n",
    "total_steps = (len(tokenized_train) // training_args.per_device_train_batch_size) * training_args.num_train_epochs\n",
    "total_steps = total_steps // training_args.gradient_accumulation_steps\n",
    "\n",
    "ada_config = AdaLoraConfig(\n",
    "    init_r=8,  # Filler value, changed below\n",
    "    target_r=4,  # Target rank for query, key, value, dense\n",
    "    tinit=200,   # Initial budgeting\n",
    "    tfinal=total_steps-300,  #Budgeting at end of training\n",
    "    total_step=total_steps,\n",
    "    deltaT=10,  #Smooth AdaLoRA transitions\n",
    "    beta1=0.85,\n",
    "    beta2=0.95,\n",
    "    lora_alpha=16,\n",
    "    lora_dropout=0.1,   #Reduces overfitting\n",
    "    target_modules=[\"query\", \"key\", \"value\", \"dense\"],  # Ensure these layers exist in the model\n",
    "    bias=\"none\",\n",
    "    task_type=TaskType.SEQ_CLS,\n",
    "    layers_to_transform=list(range(6, 12))  # Apply to layers 6-11\n",
    ")\n",
    "\n",
    "model = get_peft_model(model, ada_config)\n",
    "\n",
    "# Manual override for specific layers\n",
    "rank_overrides = {\n",
    "    \"query\": 8,\n",
    "    \"key\": 6, \n",
    "    \"value\": 6,\n",
    "    \"dense\": 4\n",
    "}\n",
    "# ----------------------------------------------------------------------------------\n",
    "# 6. Asymmetric LoRA - force unfrozen layers to take the override ranks specified above\n",
    "# ----------------------------------------------------------------------------------\n",
    "\n",
    "for name, module in model.named_modules():\n",
    "    if hasattr(module, \"r\"):\n",
    "        # Extract layer type from name\n",
    "        layer_type = name.split(\".\")[-1]  # \"query\", \"key\", \"value\", or \"dense\"\n",
    "        if layer_type in rank_overrides:\n",
    "            # Modify the attribute\n",
    "            new_rank = rank_overrides[layer_type]\n",
    "            \n",
    "            # Update the rank attribute\n",
    "            module.r = new_rank\n",
    "            \n",
    "            in_features = module.in_features\n",
    "            out_features = module.out_features\n",
    "                \n",
    "            # Reinitialize all LoRA components\n",
    "            for adapter_name in module.lora_A.keys():\n",
    "                module.lora_A[adapter_name] = torch.nn.Parameter(\n",
    "                    torch.randn((new_rank, in_features), device=model.device)\n",
    "                )\n",
    "                module.lora_B[adapter_name] = torch.nn.Parameter(\n",
    "                    torch.zeros((out_features, new_rank), device=model.device)\n",
    "                )\n",
    "                module.lora_E[adapter_name] = torch.nn.Parameter(\n",
    "                    torch.ones((new_rank, 1), device=model.device)  # Singular values\n",
    "                )\n",
    "                \n",
    "            # Force re-registration of parameters\n",
    "            module.to(model.device)\n",
    "\n",
    "print(\"=\" * 50)\n",
    "print(\"Layers with AdaLoRA Ranks (r):\")\n",
    "print(\"=\" * 50)\n",
    "for name, module in model.named_modules():\n",
    "    if hasattr(module, \"r\"):  # Check if it's a LoRA layer\n",
    "        print(f\"{name}: r = {module.r}\")# (target_r = {module.target_r})\")\n",
    "print(\"=\" * 50)\n",
    "\n",
    "model.print_trainable_parameters()\n",
    "\n",
    "def compute_metrics(eval_pred):\n",
    "    logits, labels = eval_pred\n",
    "    predictions = np.argmax(logits, axis=-1)\n",
    "    return {\"accuracy\": accuracy_score(labels, predictions)}"
   ]
  },
  {
   "cell_type": "code",
   "execution_count": 4,
   "metadata": {},
   "outputs": [
    {
     "name": "stderr",
     "output_type": "stream",
     "text": [
      "/tmp/ipykernel_16942/2805326384.py:4: FutureWarning: `tokenizer` is deprecated and will be removed in version 5.0.0 for `Trainer.__init__`. Use `processing_class` instead.\n",
      "  trainer = Trainer(\n",
      "No label_names provided for model class `PeftModelForSequenceClassification`. Since `PeftModel` hides base models input arguments, if label_names is not given, label_names can't be set automatically within `Trainer`. Note that empty label_names list will be used instead.\n"
     ]
    },
    {
     "data": {
      "text/html": [
       "\n",
       "    <div>\n",
       "      \n",
       "      <progress value='45000' max='45000' style='width:300px; height:20px; vertical-align: middle;'></progress>\n",
       "      [45000/45000 1:14:36, Epoch 6/6]\n",
       "    </div>\n",
       "    <table border=\"1\" class=\"dataframe\">\n",
       "  <thead>\n",
       " <tr style=\"text-align: left;\">\n",
       "      <th>Epoch</th>\n",
       "      <th>Training Loss</th>\n",
       "      <th>Validation Loss</th>\n",
       "      <th>Accuracy</th>\n",
       "    </tr>\n",
       "  </thead>\n",
       "  <tbody>\n",
       "    <tr>\n",
       "      <td>1</td>\n",
       "      <td>107.573100</td>\n",
       "      <td>95.225517</td>\n",
       "      <td>0.921842</td>\n",
       "    </tr>\n",
       "    <tr>\n",
       "      <td>2</td>\n",
       "      <td>1.882500</td>\n",
       "      <td>1.591228</td>\n",
       "      <td>0.933553</td>\n",
       "    </tr>\n",
       "    <tr>\n",
       "      <td>3</td>\n",
       "      <td>0.182500</td>\n",
       "      <td>0.182484</td>\n",
       "      <td>0.943289</td>\n",
       "    </tr>\n",
       "    <tr>\n",
       "      <td>4</td>\n",
       "      <td>0.159700</td>\n",
       "      <td>0.157300</td>\n",
       "      <td>0.947368</td>\n",
       "    </tr>\n",
       "    <tr>\n",
       "      <td>5</td>\n",
       "      <td>0.136800</td>\n",
       "      <td>0.157824</td>\n",
       "      <td>0.947763</td>\n",
       "    </tr>\n",
       "    <tr>\n",
       "      <td>6</td>\n",
       "      <td>0.140800</td>\n",
       "      <td>0.157756</td>\n",
       "      <td>0.947105</td>\n",
       "    </tr>\n",
       "  </tbody>\n",
       "</table><p>"
      ],
      "text/plain": [
       "<IPython.core.display.HTML object>"
      ]
     },
     "metadata": {},
     "output_type": "display_data"
    },
    {
     "data": {
      "text/plain": [
       "TrainOutput(global_step=45000, training_loss=69.42143246815999, metrics={'train_runtime': 4477.2289, 'train_samples_per_second': 321.628, 'train_steps_per_second': 10.051, 'total_flos': 1.9165387456512e+17, 'train_loss': 69.42143246815999, 'epoch': 6.0})"
      ]
     },
     "execution_count": 4,
     "metadata": {},
     "output_type": "execute_result"
    }
   ],
   "source": [
    "# -----------------------------\n",
    "# 7. Train the model\n",
    "# -----------------------------\n",
    "trainer = Trainer(\n",
    "    model=model,\n",
    "    args=training_args,\n",
    "    train_dataset=tokenized_train,\n",
    "    eval_dataset=tokenized_test,\n",
    "    tokenizer=tokenizer,\n",
    "    compute_metrics=compute_metrics,\n",
    "    data_collator=data_collator,\n",
    ")\n",
    "\n",
    "trainer.train()"
   ]
  },
  {
   "cell_type": "code",
   "execution_count": 5,
   "metadata": {},
   "outputs": [
    {
     "data": {
      "text/html": [
       "\n",
       "    <div>\n",
       "      \n",
       "      <progress value='119' max='119' style='width:300px; height:20px; vertical-align: middle;'></progress>\n",
       "      [119/119 00:07]\n",
       "    </div>\n",
       "    "
      ],
      "text/plain": [
       "<IPython.core.display.HTML object>"
      ]
     },
     "metadata": {},
     "output_type": "display_data"
    },
    {
     "name": "stdout",
     "output_type": "stream",
     "text": [
      "Final Evaluation Accuracy: 0.9473684210526315\n"
     ]
    }
   ],
   "source": [
    "# -----------------------------\n",
    "# 8. Evaluate the model\n",
    "# -----------------------------\n",
    "eval_results = trainer.evaluate()\n",
    "print(\"Final Evaluation Accuracy:\", eval_results[\"eval_accuracy\"])"
   ]
  },
  {
   "cell_type": "code",
   "execution_count": 6,
   "metadata": {},
   "outputs": [
    {
     "name": "stdout",
     "output_type": "stream",
     "text": [
      "Trainable parameters: 999364\n"
     ]
    }
   ],
   "source": [
    "# -----------------------------\n",
    "# 9. Check trainable parameter count\n",
    "# -----------------------------\n",
    "trainable_params = sum(p.numel() for p in model.parameters() if p.requires_grad)\n",
    "print(f\"Trainable parameters: {trainable_params}\")"
   ]
  },
  {
   "cell_type": "code",
   "execution_count": 8,
   "metadata": {},
   "outputs": [
    {
     "data": {
      "application/vnd.jupyter.widget-view+json": {
       "model_id": "e77a0391ac8142e586bc83fee4c2d5e7",
       "version_major": 2,
       "version_minor": 0
      },
      "text/plain": [
       "Map:   0%|          | 0/8000 [00:00<?, ? examples/s]"
      ]
     },
     "metadata": {},
     "output_type": "display_data"
    }
   ],
   "source": [
    "from datasets import Dataset\n",
    "from torch.utils.data import DataLoader\n",
    "\n",
    "# Load dataset object\n",
    "with open(\"input/test_unlabelled.pkl\", \"rb\") as f:\n",
    "    test_dataset = pickle.load(f)\n",
    "\n",
    "# Convert to HuggingFace Dataset (already is, but this helps formatting)\n",
    "test_dataset = Dataset.from_dict({\"text\": test_dataset[\"text\"]})\n",
    "\n",
    "# Tokenize function\n",
    "def preprocess_function(examples):\n",
    "    return tokenizer(examples[\"text\"], truncation=True, padding=\"max_length\", max_length=256)\n",
    "\n",
    "# Apply tokenizer\n",
    "tokenized_test_dataset = test_dataset.map(preprocess_function, batched=True)\n",
    "tokenized_test_dataset.set_format(type=\"torch\", columns=[\"input_ids\", \"attention_mask\"])\n",
    "\n",
    "# Create PyTorch DataLoader for batching\n",
    "test_dataloader = DataLoader(tokenized_test_dataset, batch_size=64)\n",
    "\n",
    "# Prediction loop\n",
    "model.eval()\n",
    "all_predictions = []\n",
    "\n",
    "with torch.no_grad():\n",
    "    for batch in test_dataloader:\n",
    "        batch = {k: v.to(device) for k, v in batch.items()}\n",
    "        outputs = model(**batch)\n",
    "        preds = torch.argmax(outputs.logits, dim=-1)\n",
    "        all_predictions.extend(preds.cpu().numpy())\n"
   ]
  },
  {
   "cell_type": "code",
   "execution_count": 9,
   "metadata": {},
   "outputs": [
    {
     "name": "stdout",
     "output_type": "stream",
     "text": [
      "✅ Batched predictions complete. Saved to submission_v27.csv.\n"
     ]
    }
   ],
   "source": [
    "# -----------------------------\n",
    "# 10. Save predictions to CSV\n",
    "# -----------------------------\n",
    "df = pd.DataFrame({\n",
    "    \"ID\": list(range(len(all_predictions))),   # ID ✅\n",
    "    \"label\": all_predictions\n",
    "})\n",
    "df.to_csv(f\"submission_v{VERSION}.csv\", index=False)\n",
    "print(f\"✅ Batched predictions complete. Saved to submission_v{VERSION}.csv.\")"
   ]
  },
  {
   "cell_type": "code",
   "execution_count": null,
   "metadata": {},
   "outputs": [],
   "source": []
  }
 ],
 "metadata": {
  "kaggle": {
   "accelerator": "nvidiaTeslaT4",
   "dataSources": [
    {
     "databundleVersionId": 11711500,
     "sourceId": 98084,
     "sourceType": "competition"
    }
   ],
   "dockerImageVersionId": 30919,
   "isGpuEnabled": true,
   "isInternetEnabled": true,
   "language": "python",
   "sourceType": "notebook"
  },
  "kernelspec": {
   "display_name": "Python3 (ipykernel)",
   "language": "python",
   "name": "python3"
  },
  "language_info": {
   "codemirror_mode": {
    "name": "ipython",
    "version": 3
   },
   "file_extension": ".py",
   "mimetype": "text/x-python",
   "name": "python",
   "nbconvert_exporter": "python",
   "pygments_lexer": "ipython3",
   "version": "3.10.12"
  }
 },
 "nbformat": 4,
 "nbformat_minor": 4
}
