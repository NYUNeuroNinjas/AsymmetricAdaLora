{
 "cells": [
  {
   "cell_type": "code",
   "execution_count": 21,
   "metadata": {
    "_cell_guid": "b1076dfc-b9ad-4769-8c92-a6c4dae69d19",
    "_uuid": "8f2839f25d086af736a60e9eeb907d3b93b6e0e5"
   },
   "outputs": [],
   "source": [
    "# This Python 3 environment comes with many helpful analytics libraries installed\n",
    "# It is defined by the kaggle/python Docker image: https://github.com/kaggle/docker-python\n",
    "# For example, here's several helpful packages to load\n",
    "\n",
    "import numpy as np # linear algebra\n",
    "import pandas as pd # data processing, CSV file I/O (e.g. pd.read_csv)\n",
    "\n",
    "# Input data files are available in the read-only \"../input/\" directory\n",
    "# For example, running this (by clicking run or pressing Shift+Enter) will list all files under the input directory\n",
    "\n",
    "import os\n",
    "for dirname, _, filenames in os.walk('/kaggle/input'):\n",
    "    for filename in filenames:\n",
    "        print(os.path.join(dirname, filename))\n",
    "\n",
    "# You can write up to 20GB to the current directory (/kaggle/working/) that gets preserved as output when you create a version using \"Save & Run All\" \n",
    "# You can also write temporary files to /kaggle/temp/, but they won't be saved outside of the current session"
   ]
  },
  {
   "cell_type": "code",
   "execution_count": 22,
   "metadata": {},
   "outputs": [
    {
     "name": "stdout",
     "output_type": "stream",
     "text": [
      "Using device: cuda\n"
     ]
    }
   ],
   "source": [
    "# -----------------------------\n",
    "# 1. Import libraries\n",
    "# -----------------------------\n",
    "import torch\n",
    "from transformers import AutoTokenizer, AutoModelForSequenceClassification, TrainingArguments, Trainer, DataCollatorWithPadding\n",
    "from datasets import load_dataset\n",
    "from peft import get_peft_model, LoraConfig, TaskType, AdaLoraConfig\n",
    "from sklearn.metrics import accuracy_score\n",
    "import numpy as np\n",
    "import pandas as pd\n",
    "import pickle\n",
    "\n",
    "# -----------------------------\n",
    "# 2. Use GPU if available\n",
    "# -----------------------------\n",
    "device = torch.device(\"cuda\" if torch.cuda.is_available() else \"cpu\")\n",
    "print(f\"Using device: {device}\")\n",
    "\n",
    "# -----------------------------\n",
    "# 3. Load and preprocess AGNEWS dataset\n",
    "# -----------------------------\n",
    "dataset = load_dataset(\"ag_news\")\n",
    "tokenizer = AutoTokenizer.from_pretrained(\"roberta-base\")\n",
    "\n",
    "def tokenize_function(examples):\n",
    "    return tokenizer(examples[\"text\"], truncation=True, padding=\"max_length\", max_length=256)\n",
    "\n",
    "tokenized_dataset = dataset.map(tokenize_function, batched=True)\n",
    "tokenized_dataset = tokenized_dataset.rename_column(\"label\", \"labels\")\n",
    "tokenized_dataset.set_format(\"torch\", columns=[\"input_ids\", \"attention_mask\", \"labels\"])\n",
    "\n",
    "\n",
    "data_collator = DataCollatorWithPadding(tokenizer=tokenizer, return_tensors=\"pt\")"
   ]
  },
  {
   "cell_type": "code",
   "execution_count": 23,
   "metadata": {},
   "outputs": [
    {
     "name": "stdout",
     "output_type": "stream",
     "text": [
      "Train Samples: 120000\n",
      "Test Samples: 7600\n",
      "\n",
      "First Sample:\n",
      "-------------\n",
      "text: Wall St. Bears Claw Back Into the Black (Reuters) Reuters - Short-sellers, Wall Street's dwindling\\band of ultra-cynics, are seeing green again.\n",
      "labels: 2\n"
     ]
    }
   ],
   "source": [
    "# Check the number of records in the train and test dataset\n",
    "print(f\"Train Samples: {tokenized_dataset['train'].shape[0]}\")\n",
    "print(f\"Test Samples: {tokenized_dataset['test'].shape[0]}\")\n",
    "\n",
    "# Print out the first sample\n",
    "print(\"\\nFirst Sample:\")\n",
    "print(\"-------------\")\n",
    "for feature in ['text', 'labels']: #, 'input_ids', 'attention_mask']:\n",
    "    print(f\"{feature}: {tokenized_dataset['train'][feature][0]}\")\n",
    "\n",
    "# tokenized_dataset['train']['labels'].unique()"
   ]
  },
  {
   "cell_type": "markdown",
   "metadata": {},
   "source": [
    "model = AutoModelForSequenceClassification.from_pretrained(\"roberta-base\")\n",
    "\n",
    "for name, module in model.named_modules():\n",
    "    if any(k in name for k in [\"query\", \"key\", \"value\", \"dense\", \"proj\"]):\n",
    "        print(name)"
   ]
  },
  {
   "cell_type": "code",
   "execution_count": 24,
   "metadata": {},
   "outputs": [
    {
     "data": {
      "text/plain": [
       "'\\n# Regular LoRa\\nlora_config = LoraConfig(\\n    r=8,\\n    lora_alpha=32,\\n    # lora_type=\"LoHA\",  # or \"AdaLoRA\"\\n    target_modules=[\"query\", \"value\", \"key\", \"dense\"],\\n    # target_modules=[\"q_proj\", \"k_proj\", \"v_proj\", \"out_proj\"],\\n    layers_to_transform=list(range(4, 12)),  \\n    lora_dropout=0.1,\\n    bias=\"none\",\\n    task_type=TaskType.SEQ_CLS\\n)\\n'"
      ]
     },
     "execution_count": 24,
     "metadata": {},
     "output_type": "execute_result"
    }
   ],
   "source": [
    "# -----------------------------\n",
    "# 4. Load RoBERTa model with LoRA adapters\n",
    "# -----------------------------\n",
    "# model = AutoModelForSequenceClassification.from_pretrained(\"roberta-base\", num_labels=4)\n",
    "\n",
    "'''\n",
    "# Lora with variable r\n",
    "# Define per-layer LoRA configs\n",
    "layer_configs = {\n",
    "    (0, 5): 1,\n",
    "    (6, 9): 10,\n",
    "    (10, 11): 14,\n",
    "}\n",
    "\n",
    "# Apply LoRA layer by layer\n",
    "for (start, end), r in layer_configs.items():\n",
    "    lora_config = LoraConfig(\n",
    "        r=r,\n",
    "        lora_alpha=r * 3,  # alpha proportional to r\n",
    "        target_modules=[\"query\", \"key\", \"value\", \"dense\"],\n",
    "        layers_to_transform=list(range(start, end + 1)),\n",
    "        lora_dropout=0.1,\n",
    "        bias=\"none\",\n",
    "        task_type=TaskType.SEQ_CLS,\n",
    "    )\n",
    "'''\n",
    "\n",
    "'''\n",
    "# Regular LoRa\n",
    "lora_config = LoraConfig(\n",
    "    r=8,\n",
    "    lora_alpha=32,\n",
    "    # lora_type=\"LoHA\",  # or \"AdaLoRA\"\n",
    "    target_modules=[\"query\", \"value\", \"key\", \"dense\"],\n",
    "    # target_modules=[\"q_proj\", \"k_proj\", \"v_proj\", \"out_proj\"],\n",
    "    layers_to_transform=list(range(4, 12)),  \n",
    "    lora_dropout=0.1,\n",
    "    bias=\"none\",\n",
    "    task_type=TaskType.SEQ_CLS\n",
    ")\n",
    "'''\n",
    "\n",
    "\n",
    "# # AdaLoRA \n",
    "\n",
    "# train_dataset = tokenized_dataset['train']\n",
    "\n",
    "# total_steps = (len(train_dataset) // training_args.per_device_train_batch_size) * training_args.num_train_epochs\n",
    "# total_steps = total_steps // training_args.gradient_accumulation_steps\n",
    "\n",
    "# ada_config = AdaLoraConfig(\n",
    "#     init_r=12,              # initial rank\n",
    "#     target_r=4,             # final rank after adaptation\n",
    "#     tinit=200,              # warmup steps before adaptation starts\n",
    "#     tfinal=1000,            # total steps to decay rank\n",
    "#     total_step=total_steps,  # ✅ Required!\n",
    "#     deltaT=10,              # update rank every deltaT steps\n",
    "#     beta1=0.85,             # regularization hyperparameters\n",
    "#     beta2=0.95,\n",
    "#     lora_alpha=32,\n",
    "#     lora_dropout=0.1,\n",
    "#     target_modules=[\"query\", \"key\", \"value\"],\n",
    "#     bias=\"none\",\n",
    "#     task_type=TaskType.SEQ_CLS,\n",
    "#     layers_to_transform = list(range(6, 12))  # or even [9, 10, 11]\n",
    "# )\n",
    "\n",
    "\n",
    "# # model = get_peft_model(model, lora_config)\n",
    "# model = get_peft_model(model, ada_config)\n",
    "# model.to(device)\n",
    "# model.print_trainable_parameters()"
   ]
  },
  {
   "cell_type": "code",
   "execution_count": 25,
   "metadata": {},
   "outputs": [
    {
     "name": "stderr",
     "output_type": "stream",
     "text": [
      "Some weights of RobertaForSequenceClassification were not initialized from the model checkpoint at roberta-base and are newly initialized: ['classifier.dense.bias', 'classifier.dense.weight', 'classifier.out_proj.bias', 'classifier.out_proj.weight']\n",
      "You should probably TRAIN this model on a down-stream task to be able to use it for predictions and inference.\n"
     ]
    },
    {
     "name": "stdout",
     "output_type": "stream",
     "text": [
      "trainable params: 925,660 || all params: 125,574,386 || trainable%: 0.7371\n"
     ]
    }
   ],
   "source": [
    "# -----------------------------\n",
    "# 5. Define training arguments\n",
    "# -----------------------------\n",
    "training_args = TrainingArguments(\n",
    "    output_dir=\"./results\",\n",
    "    eval_strategy=\"epoch\",\n",
    "    save_strategy=\"epoch\",\n",
    "    # save_total_limit=3,                 # 👈 (Optional) Keep only the last 3 saved models\n",
    "    learning_rate=5e-5,\n",
    "    lr_scheduler_type=\"cosine\",\n",
    "    warmup_ratio=0.1,\n",
    "    per_device_train_batch_size=32,\n",
    "    per_device_eval_batch_size=64,\n",
    "    num_train_epochs=8,\n",
    "    weight_decay=0.05,\n",
    "    # logging_dir=\"./logs\",\n",
    "    report_to=\"none\",\n",
    "    fp16 = True,\n",
    "    seed = 42,  \n",
    "    # gradient_accumulation_steps=2,\n",
    "    load_best_model_at_end=True,        # 👈 (Optional) Load best checkpoint automatically\n",
    "    metric_for_best_model=\"accuracy\",    # 👈 Must be paired with `load_best_model_at_end`\n",
    "    # logging_steps=50,\n",
    "    # max_grad_norm=1.0\n",
    ")\n",
    "\n",
    "\n",
    "model = AutoModelForSequenceClassification.from_pretrained(\"roberta-base\", num_labels=4)\n",
    "\n",
    "\n",
    "# AdaLoRA \n",
    "\n",
    "train_dataset = tokenized_dataset['train']\n",
    "\n",
    "total_steps = (len(train_dataset) // training_args.per_device_train_batch_size) * training_args.num_train_epochs\n",
    "total_steps = total_steps // training_args.gradient_accumulation_steps\n",
    "\n",
    "ada_config = AdaLoraConfig(\n",
    "    init_r=12,              # initial rank\n",
    "    target_r=4,             # final rank after adaptation\n",
    "    tinit=200,              # warmup steps before adaptation starts\n",
    "    tfinal=1000,            # total steps to decay rank\n",
    "    total_step=total_steps,  # ✅ Required!\n",
    "    deltaT=10,              # update rank every deltaT steps\n",
    "    beta1=0.85,             # regularization hyperparameters\n",
    "    beta2=0.95,\n",
    "    lora_alpha=32,\n",
    "    lora_dropout=0.1,\n",
    "    target_modules=[\"query\", \"key\", \"value\"],\n",
    "    bias=\"none\",\n",
    "    task_type=TaskType.SEQ_CLS,\n",
    "    layers_to_transform = list(range(6, 12))  # or even [9, 10, 11]\n",
    ")\n",
    "\n",
    "model = get_peft_model(model, ada_config)\n",
    "model.to(device)\n",
    "model.print_trainable_parameters()\n",
    "\n",
    "def compute_metrics(eval_pred):\n",
    "    logits, labels = eval_pred\n",
    "    predictions = np.argmax(logits, axis=-1)\n",
    "    return {\"accuracy\": accuracy_score(labels, predictions)}"
   ]
  },
  {
   "cell_type": "code",
   "execution_count": 26,
   "metadata": {},
   "outputs": [
    {
     "name": "stderr",
     "output_type": "stream",
     "text": [
      "/tmp/ipykernel_39202/3987990295.py:4: FutureWarning: `tokenizer` is deprecated and will be removed in version 5.0.0 for `Trainer.__init__`. Use `processing_class` instead.\n",
      "  trainer = Trainer(\n",
      "No label_names provided for model class `PeftModelForSequenceClassification`. Since `PeftModel` hides base models input arguments, if label_names is not given, label_names can't be set automatically within `Trainer`. Note that empty label_names list will be used instead.\n"
     ]
    },
    {
     "data": {
      "text/html": [
       "\n",
       "    <div>\n",
       "      \n",
       "      <progress value='30000' max='30000' style='width:300px; height:20px; vertical-align: middle;'></progress>\n",
       "      [30000/30000 34:49, Epoch 8/8]\n",
       "    </div>\n",
       "    <table border=\"1\" class=\"dataframe\">\n",
       "  <thead>\n",
       " <tr style=\"text-align: left;\">\n",
       "      <th>Epoch</th>\n",
       "      <th>Training Loss</th>\n",
       "      <th>Validation Loss</th>\n",
       "      <th>Accuracy</th>\n",
       "    </tr>\n",
       "  </thead>\n",
       "  <tbody>\n",
       "    <tr>\n",
       "      <td>1</td>\n",
       "      <td>0.281900</td>\n",
       "      <td>0.262900</td>\n",
       "      <td>0.912763</td>\n",
       "    </tr>\n",
       "    <tr>\n",
       "      <td>2</td>\n",
       "      <td>0.247400</td>\n",
       "      <td>0.225329</td>\n",
       "      <td>0.923026</td>\n",
       "    </tr>\n",
       "    <tr>\n",
       "      <td>3</td>\n",
       "      <td>0.236200</td>\n",
       "      <td>0.216248</td>\n",
       "      <td>0.927763</td>\n",
       "    </tr>\n",
       "    <tr>\n",
       "      <td>4</td>\n",
       "      <td>0.222800</td>\n",
       "      <td>0.207660</td>\n",
       "      <td>0.929605</td>\n",
       "    </tr>\n",
       "    <tr>\n",
       "      <td>5</td>\n",
       "      <td>0.211800</td>\n",
       "      <td>0.205620</td>\n",
       "      <td>0.932105</td>\n",
       "    </tr>\n",
       "    <tr>\n",
       "      <td>6</td>\n",
       "      <td>0.200800</td>\n",
       "      <td>0.203530</td>\n",
       "      <td>0.933421</td>\n",
       "    </tr>\n",
       "    <tr>\n",
       "      <td>7</td>\n",
       "      <td>0.212000</td>\n",
       "      <td>0.201846</td>\n",
       "      <td>0.934211</td>\n",
       "    </tr>\n",
       "    <tr>\n",
       "      <td>8</td>\n",
       "      <td>0.200500</td>\n",
       "      <td>0.201792</td>\n",
       "      <td>0.933026</td>\n",
       "    </tr>\n",
       "  </tbody>\n",
       "</table><p>"
      ],
      "text/plain": [
       "<IPython.core.display.HTML object>"
      ]
     },
     "metadata": {},
     "output_type": "display_data"
    },
    {
     "data": {
      "text/plain": [
       "TrainOutput(global_step=30000, training_loss=0.32535063044230145, metrics={'train_runtime': 2089.6016, 'train_samples_per_second': 459.418, 'train_steps_per_second': 14.357, 'total_flos': 1.2766054219776e+17, 'train_loss': 0.32535063044230145, 'epoch': 8.0})"
      ]
     },
     "execution_count": 26,
     "metadata": {},
     "output_type": "execute_result"
    }
   ],
   "source": [
    "# -----------------------------\n",
    "# 6. Train the model\n",
    "# -----------------------------\n",
    "trainer = Trainer(\n",
    "    model=model,\n",
    "    args=training_args,\n",
    "    train_dataset=tokenized_dataset[\"train\"],\n",
    "    eval_dataset=tokenized_dataset[\"test\"],\n",
    "    tokenizer=tokenizer,\n",
    "    compute_metrics=compute_metrics,\n",
    "    data_collator=data_collator,\n",
    ")\n",
    "\n",
    "trainer.train()"
   ]
  },
  {
   "cell_type": "code",
   "execution_count": 27,
   "metadata": {},
   "outputs": [
    {
     "data": {
      "text/html": [
       "\n",
       "    <div>\n",
       "      \n",
       "      <progress value='119' max='119' style='width:300px; height:20px; vertical-align: middle;'></progress>\n",
       "      [119/119 00:05]\n",
       "    </div>\n",
       "    "
      ],
      "text/plain": [
       "<IPython.core.display.HTML object>"
      ]
     },
     "metadata": {},
     "output_type": "display_data"
    },
    {
     "name": "stdout",
     "output_type": "stream",
     "text": [
      "Final Evaluation Accuracy: 0.9342105263157895\n"
     ]
    }
   ],
   "source": [
    "# -----------------------------\n",
    "# 7. Evaluate the model\n",
    "# -----------------------------\n",
    "eval_results = trainer.evaluate()\n",
    "print(\"Final Evaluation Accuracy:\", eval_results[\"eval_accuracy\"])"
   ]
  },
  {
   "cell_type": "code",
   "execution_count": 28,
   "metadata": {},
   "outputs": [
    {
     "name": "stdout",
     "output_type": "stream",
     "text": [
      "Trainable parameters: 925660\n"
     ]
    }
   ],
   "source": [
    "# -----------------------------\n",
    "# 8. Check trainable parameter count\n",
    "# -----------------------------\n",
    "trainable_params = sum(p.numel() for p in model.parameters() if p.requires_grad)\n",
    "print(f\"Trainable parameters: {trainable_params}\")"
   ]
  },
  {
   "cell_type": "code",
   "execution_count": 29,
   "metadata": {},
   "outputs": [
    {
     "data": {
      "text/plain": [
       "('./final_model/tokenizer_config.json',\n",
       " './final_model/special_tokens_map.json',\n",
       " './final_model/vocab.json',\n",
       " './final_model/merges.txt',\n",
       " './final_model/added_tokens.json',\n",
       " './final_model/tokenizer.json')"
      ]
     },
     "execution_count": 29,
     "metadata": {},
     "output_type": "execute_result"
    }
   ],
   "source": [
    "# Save the model and tokenizer\n",
    "model.save_pretrained(\"./final_model\")  # Saves LoRA adapters + config\n",
    "tokenizer.save_pretrained(\"./final_model\")"
   ]
  },
  {
   "cell_type": "code",
   "execution_count": 30,
   "metadata": {},
   "outputs": [
    {
     "name": "stderr",
     "output_type": "stream",
     "text": [
      "Map: 100%|██████████| 8000/8000 [00:01<00:00, 7628.59 examples/s]\n"
     ]
    }
   ],
   "source": [
    "from datasets import Dataset\n",
    "from torch.utils.data import DataLoader\n",
    "\n",
    "# Load dataset object\n",
    "with open(\"./kaggle/input/test_unlabelled.pkl\", \"rb\") as f:\n",
    "    test_dataset = pickle.load(f)\n",
    "\n",
    "# Convert to HuggingFace Dataset (already is, but this helps formatting)\n",
    "test_dataset = Dataset.from_dict({\"text\": test_dataset[\"text\"]})\n",
    "\n",
    "# Tokenize function\n",
    "def preprocess_function(examples):\n",
    "    return tokenizer(examples[\"text\"], truncation=True, padding=\"max_length\", max_length=256)\n",
    "\n",
    "# Apply tokenizer\n",
    "tokenized_test_dataset = test_dataset.map(preprocess_function, batched=True)\n",
    "tokenized_test_dataset.set_format(type=\"torch\", columns=[\"input_ids\", \"attention_mask\"])\n",
    "\n",
    "# Create PyTorch DataLoader for batching\n",
    "test_dataloader = DataLoader(tokenized_test_dataset, batch_size=64)\n",
    "\n",
    "# Prediction loop\n",
    "model.eval()\n",
    "all_predictions = []\n",
    "\n",
    "with torch.no_grad():\n",
    "    for batch in test_dataloader:\n",
    "        batch = {k: v.to(device) for k, v in batch.items()}\n",
    "        outputs = model(**batch)\n",
    "        preds = torch.argmax(outputs.logits, dim=-1)\n",
    "        all_predictions.extend(preds.cpu().numpy())\n"
   ]
  },
  {
   "cell_type": "code",
   "execution_count": 31,
   "metadata": {},
   "outputs": [
    {
     "name": "stdout",
     "output_type": "stream",
     "text": [
      "✅ Batched predictions complete. Saved to submission.csv.\n"
     ]
    }
   ],
   "source": [
    "# -----------------------------\n",
    "# 10. Save predictions to CSV\n",
    "# -----------------------------\n",
    "df = pd.DataFrame({\n",
    "    \"ID\": list(range(len(all_predictions))),   # ID ✅\n",
    "    \"label\": all_predictions\n",
    "})\n",
    "df.to_csv(\"submission.csv\", index=False)\n",
    "print(\"✅ Batched predictions complete. Saved to submission.csv.\")"
   ]
  },
  {
   "cell_type": "code",
   "execution_count": null,
   "metadata": {},
   "outputs": [],
   "source": []
  }
 ],
 "metadata": {
  "kaggle": {
   "accelerator": "nvidiaTeslaT4",
   "dataSources": [
    {
     "databundleVersionId": 11711500,
     "sourceId": 98084,
     "sourceType": "competition"
    }
   ],
   "dockerImageVersionId": 30919,
   "isGpuEnabled": true,
   "isInternetEnabled": true,
   "language": "python",
   "sourceType": "notebook"
  },
  "kernelspec": {
   "display_name": "Python 3 (ipykernel)",
   "language": "python",
   "name": "python3"
  },
  "language_info": {
   "codemirror_mode": {
    "name": "ipython",
    "version": 3
   },
   "file_extension": ".py",
   "mimetype": "text/x-python",
   "name": "python",
   "nbconvert_exporter": "python",
   "pygments_lexer": "ipython3",
   "version": "3.9.18"
  }
 },
 "nbformat": 4,
 "nbformat_minor": 4
}
